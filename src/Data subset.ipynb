{
 "cells": [
  {
   "cell_type": "code",
   "execution_count": 3,
   "metadata": {},
   "outputs": [],
   "source": [
    "import pandas as pd"
   ]
  },
  {
   "cell_type": "code",
   "execution_count": 7,
   "metadata": {},
   "outputs": [],
   "source": [
    "#Sampling the data\n",
    "data=pd.read_csv(\"../data/ml-20m/ratings.csv\")\n",
    "genre_data=pd.read_csv(\"../data/ml-20m/movies.csv\")\n",
    "\n",
    "movie_data_ratings_data=data.merge(genre_data,on = 'movieId',how = 'inner')\n",
    "movie_data_ratings_data['timestamp'] =pd.to_datetime(movie_data_ratings_data['timestamp'],unit='s')\n",
    "movie_data_ratings_data['timestamp'] =movie_data_ratings_data['timestamp'].dt.year"
   ]
  },
  {
   "cell_type": "code",
   "execution_count": 8,
   "metadata": {},
   "outputs": [],
   "source": [
    "def sampling(movie_data_ratings_data,l):\n",
    "    subset_data=movie_data_ratings_data[movie_data_ratings_data['timestamp'].isin(l)]\n",
    "    b=pd.Series(subset_data.userId).value_counts().rename_axis('user').reset_index()\n",
    "    c=pd.Series(subset_data.movieId).value_counts().rename_axis('movie').reset_index()\n",
    "    subset_data_2=subset_data[subset_data.userId.isin(b[b.userId>30].user) & subset_data.movieId.isin(c[(c.movieId>100)].movie)].reset_index(drop=True)\n",
    "    return(subset_data_2)"
   ]
  },
  {
   "cell_type": "code",
   "execution_count": 10,
   "metadata": {},
   "outputs": [],
   "source": [
    "years=[2015,2014,2013,2012]\n",
    "index=['15-15','14-15','13-15','12-15']\n",
    "\n",
    "for i in range(0,len(years)):\n",
    "    sampling(movie_data_ratings_data,years[0:i+1]).to_csv('../data/ratings_subset'+index[i]+'.csv',index=False)"
   ]
  }
 ],
 "metadata": {
  "kernelspec": {
   "display_name": "Python 3",
   "language": "python",
   "name": "python3"
  },
  "language_info": {
   "codemirror_mode": {
    "name": "ipython",
    "version": 3
   },
   "file_extension": ".py",
   "mimetype": "text/x-python",
   "name": "python",
   "nbconvert_exporter": "python",
   "pygments_lexer": "ipython3",
   "version": "3.7.3"
  }
 },
 "nbformat": 4,
 "nbformat_minor": 2
}
