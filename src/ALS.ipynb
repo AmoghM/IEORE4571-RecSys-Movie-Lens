{
 "cells": [
  {
   "cell_type": "markdown",
   "metadata": {},
   "source": [
    "For running the Matrix Factorization model, we make use of pyspark environment which has a built-in ALS function. All the other methods are user defined"
   ]
  },
  {
   "cell_type": "markdown",
   "metadata": {},
   "source": [
    "Importing the required packages "
   ]
  },
  {
   "cell_type": "code",
   "execution_count": 10,
   "metadata": {},
   "outputs": [],
   "source": [
    "import pandas as pd\n",
    "import scipy\n",
    "import numpy as np\n",
    "from sklearn.metrics import mean_absolute_error\n",
    "from datetime import datetime\n",
    "from pyspark.ml.evaluation import RegressionEvaluator\n",
    "from pyspark.ml.recommendation import ALS\n",
    "from pyspark.sql import Row\n",
    "import matplotlib.pyplot as plt\n",
    "import numpy as np\n",
    "%matplotlib inline\n",
    "import time\n",
    "from sklearn.metrics import mean_squared_error\n",
    "import math"
   ]
  },
  {
   "cell_type": "code",
   "execution_count": 11,
   "metadata": {},
   "outputs": [],
   "source": [
    "#Sampling the data\n",
    "data=pd.read_csv(\"../data/ratings.csv\")\n",
    "\n",
    "genre_data=pd.read_csv(\"../data/movies.csv\")\n",
    "\n",
    "movie_data_ratings_data=data.merge(genre_data,on = 'movieId',how = 'inner')\n",
    "\n",
    "movie_data_ratings_data['timestamp'] =pd.to_datetime(movie_data_ratings_data['timestamp'],unit='s')\n",
    "movie_data_ratings_data['timestamp'] =movie_data_ratings_data['timestamp'].dt.year"
   ]
  },
  {
   "cell_type": "code",
   "execution_count": 12,
   "metadata": {},
   "outputs": [],
   "source": [
    "def sampling(movie_data_ratings_data,l):\n",
    "    subset_data=movie_data_ratings_data[movie_data_ratings_data['timestamp'].isin(l)]\n",
    "    #year=subset_data['timestamp'].unique()\n",
    "    #year='_'.join([str(n) for n in year])\n",
    "    b=pd.Series(subset_data.userId).value_counts().rename_axis('user').reset_index()\n",
    "    c=pd.Series(subset_data.movieId).value_counts().rename_axis('movie').reset_index()\n",
    "    subset_data_2=subset_data[subset_data.userId.isin(b[b.userId>30].user) & subset_data.movieId.isin(c[(c.movieId>100)].movie)].reset_index(drop=True)\n",
    "    return(subset_data_2)"
   ]
  },
  {
   "cell_type": "markdown",
   "metadata": {},
   "source": [
    "The entire movielens dataset has 20 Million ratings with 138000 users and 27000 movies. This seems to be a very large data to run on a local machine. Therefore, we decided to take a sample of the dataset. Firstly, we filter the dataset on year by taking 2015's ratings. Thereafter, we only take users who have rated at least 30 movies and movies which have received more than 100 ratings. This corresponds to a user who is active and a movie that ranges from average popularity to highly popular. This we, there would be a really low chance of getting users in the training set who are are not in the test set."
   ]
  },
  {
   "cell_type": "code",
   "execution_count": 13,
   "metadata": {},
   "outputs": [],
   "source": [
    "subset_data_2=sampling(movie_data_ratings_data,[2015])"
   ]
  },
  {
   "cell_type": "code",
   "execution_count": 14,
   "metadata": {},
   "outputs": [
    {
     "data": {
      "text/plain": [
       "0.8881853922285189"
      ]
     },
     "execution_count": 14,
     "metadata": {},
     "output_type": "execute_result"
    }
   ],
   "source": [
    "sparse_1=pd.DataFrame(pd.Series(subset_data_2.userId).value_counts().reset_index(drop=True))\n",
    "sparsity=((subset_data_2.userId.nunique()*subset_data_2.movieId.nunique())-sum(sparse_1.userId))/(subset_data_2.userId.nunique()*subset_data_2.movieId.nunique())\n",
    "sparsity"
   ]
  },
  {
   "cell_type": "code",
   "execution_count": 15,
   "metadata": {},
   "outputs": [],
   "source": [
    "#Cross validation setup\n",
    "def cross_validation_setup(ratings,n1,n2):\n",
    "    (training,tune,test) = ratings.randomSplit([n1,n2,1-n1-n2],seed = 42)\n",
    "    return(training,tune,test)"
   ]
  },
  {
   "cell_type": "markdown",
   "metadata": {},
   "source": [
    "The cross_validation_setup method is used for cross validation. This function divides the ratings dataframe into training, tune and test set. We will use the training set to train the model and tune set to tune the hyperparameters. Finally, with the best parameters, we will evaluate our model on the test set"
   ]
  },
  {
   "cell_type": "code",
   "execution_count": 16,
   "metadata": {},
   "outputs": [],
   "source": [
    " #Evaluation metric setup\n",
    "def accuracy(predictions,metric):\n",
    "    evaluator = RegressionEvaluator(metricName=metric, labelCol=\"rating\",\n",
    "                                predictionCol=\"prediction\")\n",
    "    return(evaluator.evaluate(predictions))"
   ]
  },
  {
   "cell_type": "markdown",
   "metadata": {},
   "source": [
    "The accuracy method is used for evaluating the model by passing the predictions dataframe with the actual and predicted columns along with the desired metric (eg, rmse or mae)"
   ]
  },
  {
   "cell_type": "code",
   "execution_count": 17,
   "metadata": {},
   "outputs": [],
   "source": [
    "ratings = spark.createDataFrame(subset_data_2)\n",
    "(training,tune,test) = cross_validation_setup(ratings,0.6,0.2)"
   ]
  },
  {
   "cell_type": "code",
   "execution_count": 18,
   "metadata": {},
   "outputs": [
    {
     "name": "stdout",
     "output_type": "stream",
     "text": [
      "Root-mean-square error for training data = 0.635195401136902\n",
      "Mean-Absolute error for training data = 0.4865626383544941\n"
     ]
    }
   ],
   "source": [
    "# Build the recommendation model using ALS on the training data\n",
    "# Note we set cold start strategy to 'drop' to ensure we don't get NaN evaluation metrics\n",
    "als = ALS(maxIter=5, regParam=0.05, userCol=\"userId\", itemCol=\"movieId\", ratingCol=\"rating\",\n",
    "          coldStartStrategy=\"drop\",rank=10)\n",
    "model = als.fit(training)\n",
    "\n",
    "# Evaluate the model by computing the RMSE on the training data\n",
    "predictions_training = model.transform(training)\n",
    "rmse = accuracy(predictions_training,\"rmse\")\n",
    "print(\"Root-mean-square error for training data = \" + str(rmse))\n",
    "mae = accuracy(predictions_training,\"mae\")\n",
    "print(\"Mean-Absolute error for training data = \" + str(mae))"
   ]
  },
  {
   "cell_type": "markdown",
   "metadata": {},
   "source": [
    "For testing purposes, we check if pyspark ALS is working fine by passing arbitrary parameters to the ALS function and fitting the model on the training dataset. Since we get an rmse and mae value, we are good to go ahead and tune our hyperparameters."
   ]
  },
  {
   "cell_type": "code",
   "execution_count": 19,
   "metadata": {},
   "outputs": [
    {
     "name": "stdout",
     "output_type": "stream",
     "text": [
      "Estimating biases using als...\n",
      "RMSE: 0.8797\n",
      "MAE:  0.6611\n"
     ]
    },
    {
     "data": {
      "text/plain": [
       "0.6610841765630401"
      ]
     },
     "execution_count": 19,
     "metadata": {},
     "output_type": "execute_result"
    }
   ],
   "source": [
    "#baseline model using surprise BaseLine\n",
    "from surprise.model_selection import cross_validate\n",
    "from surprise import BaselineOnly\n",
    "from surprise import accuracy\n",
    "from surprise import Reader, Dataset\n",
    "from surprise.model_selection import train_test_split\n",
    "\n",
    "training_new=training.toPandas()\n",
    "tune_new=tune.toPandas()\n",
    "\n",
    "algo = BaselineOnly()\n",
    "reader = Reader()\n",
    "data_train = Dataset.load_from_df(training_new.iloc[:,:-3][['userId', 'movieId', 'rating']], reader)\n",
    "data_tune = Dataset.load_from_df(tune_new.iloc[:,:-3][['userId', 'movieId', 'rating']], reader)\n",
    "\n",
    "trainset = data_train.build_full_trainset()\n",
    "algo.fit(trainset)\n",
    "\n",
    "\n",
    "\n",
    "trainset, tuneset = train_test_split(data_tune, test_size=1.0)\n",
    "predictions = algo.test(tuneset)\n",
    "\n",
    "\n",
    "accuracy.rmse(predictions)\n",
    "accuracy.mae(predictions)"
   ]
  },
  {
   "cell_type": "markdown",
   "metadata": {},
   "source": [
    "The best way to check if our recommendation algorithm is performing well is to compare it against a baseline model. A baseline model is one in which we don't use any predictions. It can be assumed as a lazy model to give ratings to the missing user-item pairs. The first baseline model we considered is the user-item bias which is given by the ALS model. The above code computes the baseline metric for the tune set"
   ]
  },
  {
   "cell_type": "code",
   "execution_count": 20,
   "metadata": {},
   "outputs": [
    {
     "name": "stdout",
     "output_type": "stream",
     "text": [
      "Baseline RMSE: 0.9075898245990541\n",
      "Baseline MAE: 0.8299210848995348\n"
     ]
    }
   ],
   "source": [
    "training_df=training.toPandas()\n",
    "tune_df=tune.toPandas()\n",
    "temp_df=pd.DataFrame(training_df.groupby('userId')['rating'].mean()).reset_index()\n",
    "temp_df=temp_df.rename(columns={\"rating\": \"avg_rating_user\"})\n",
    "temp_df_2=pd.DataFrame(training_df.groupby('movieId')['rating'].mean()).reset_index()\n",
    "temp_df_2=temp_df_2.rename(columns={\"rating\": \"avg_rating_movie\"})\n",
    "tune_df=tune_df.merge(temp_df,how='inner',on='userId')\n",
    "tune_df=tune_df.merge(temp_df_2,how='inner',on='movieId')\n",
    "tune_df['prediction']=(tune_df['avg_rating_user']+tune_df['avg_rating_movie'])/2\n",
    "baseline_avg_rmse=math.sqrt(mean_squared_error(tune_df['rating'],tune_df['prediction']))\n",
    "baseline_avg_mae=math.sqrt(mean_absolute_error(tune_df['rating'],tune_df['prediction']))\n",
    "print('Baseline RMSE:',baseline_avg_rmse)\n",
    "print('Baseline MAE:',baseline_avg_mae)"
   ]
  },
  {
   "cell_type": "markdown",
   "metadata": {},
   "source": [
    "We also considered creating another baseline model which gives a missing user-item pair, a rating which is calculated using the average of 2 things:\n",
    "1) Average rating that particular user has given\n",
    "2) Average rating that particular movie has received"
   ]
  },
  {
   "cell_type": "code",
   "execution_count": 21,
   "metadata": {},
   "outputs": [],
   "source": [
    "#Parameter tuning\n",
    "def tune_ALS(train_data, validation_data, maxIter, regParams, ranks):\n",
    "    start_time = time.time()\n",
    "    min_error = float('inf')\n",
    "    min_mae= float('inf')\n",
    "    best_rank = -1\n",
    "    best_regularization = regParams[0]\n",
    "    best_model = None\n",
    "    l1=[]\n",
    "    l2=[]\n",
    "    l3=[]\n",
    "    l4=[]\n",
    "    for rank in ranks:\n",
    "        for reg in regParams:\n",
    "                    # get ALS model\n",
    "            als = ALS(userCol=\"userId\", itemCol=\"movieId\", ratingCol=\"rating\",\n",
    "          coldStartStrategy=\"drop\").setMaxIter(maxIter).setRank(rank).setRegParam(reg)\n",
    "            # train ALS model\n",
    "            model = als.fit(train_data)\n",
    "            # evaluate the model by computing the RMSE on the validation data\n",
    "            predictions = model.transform(validation_data)\n",
    "            evaluator = RegressionEvaluator(metricName=\"rmse\",\n",
    "                                            labelCol=\"rating\",\n",
    "                                            predictionCol=\"prediction\")\n",
    "            rmse = evaluator.evaluate(predictions)\n",
    "            evaluator2 = RegressionEvaluator(metricName=\"mae\",\n",
    "                                            labelCol=\"rating\",\n",
    "                                            predictionCol=\"prediction\")\n",
    "            mae = evaluator2.evaluate(predictions)            \n",
    "            l1.append(rmse)\n",
    "            l2.append(mae)\n",
    "            if (rmse < min_error): #and (mae < min_mae):\n",
    "                min_error = rmse\n",
    "                min_mae= mae\n",
    "                best_rank = rank\n",
    "                best_model = model\n",
    "            l3.append(rank)\n",
    "            l4.append(reg)\n",
    "    print('\\nThe best model has {} latent factors and '\n",
    "          'regularization = {}'.format(best_rank, best_regularization))\n",
    "    return (l1,l2,l3,l4,time.time()-start_time)"
   ]
  },
  {
   "cell_type": "markdown",
   "metadata": {},
   "source": [
    "The above method is used for training the hyperparameters for our ALS model. It takes in the training data, tune data and a set of range of hyperparameter values to return the best model, i.e. one having the least rmse"
   ]
  },
  {
   "cell_type": "code",
   "execution_count": 22,
   "metadata": {},
   "outputs": [
    {
     "name": "stdout",
     "output_type": "stream",
     "text": [
      "\n",
      "The best model has 70 latent factors and regularization = 0.01\n"
     ]
    }
   ],
   "source": [
    "param_tune=tune_ALS(training,tune,5,[0.01,0.05,0.1],[10,20,30,40,50,60,70])"
   ]
  },
  {
   "cell_type": "code",
   "execution_count": 23,
   "metadata": {},
   "outputs": [],
   "source": [
    "best_rank=param_tune[2][param_tune[0].index(min(param_tune[0]))]\n",
    "best_reg=param_tune[3][param_tune[0].index(min(param_tune[0]))]"
   ]
  },
  {
   "cell_type": "markdown",
   "metadata": {},
   "source": [
    "After trying the range of hyperparameters for reularization and latent factors, we plot the model performance (rmse/mae) with respect to these parameters. Since there are two hyperparameters, we fix the regularization parameter and plot for different values of latent factors"
   ]
  },
  {
   "cell_type": "code",
   "execution_count": 25,
   "metadata": {},
   "outputs": [
    {
     "name": "stdout",
     "output_type": "stream",
     "text": [
      "RMSE: 0.8797\n"
     ]
    },
    {
     "data": {
      "image/png": "[encoded data removed]",
      "text/plain": [
       "<Figure size 432x288 with 1 Axes>"
      ]
     },
     "metadata": {
      "needs_background": "light"
     },
     "output_type": "display_data"
    }
   ],
   "source": [
    "plt.plot(param_tune[2][0:20:3],param_tune[0][0:20:3], marker='o', markerfacecolor='blue', color='skyblue', linewidth=1,label='ALS')\n",
    "plt.plot(param_tune[2][0:20:3],[accuracy.rmse(predictions)]*7, marker='*', color='green', linewidth=1,label='Baseline ALS')\n",
    "plt.plot(param_tune[2][0:20:3],[baseline_avg_rmse]*7, marker='s', color='red', linewidth=1,label='Baseline Average')\n",
    "plt.legend()\n",
    "plt.title(\"Rmse vs No of Latent Factors at reg=0.01\")\n",
    "plt.xlabel(\"No of Latent Factors\")\n",
    "plt.ylabel(\"Rmse\")\n",
    "plt.savefig('../output/rmse_0.01_'+'2015'+'.png')"
   ]
  },
  {
   "cell_type": "code",
   "execution_count": 26,
   "metadata": {},
   "outputs": [
    {
     "name": "stdout",
     "output_type": "stream",
     "text": [
      "RMSE: 0.8797\n"
     ]
    },
    {
     "data": {
      "image/png": "[encoded data removed]",
      "text/plain": [
       "<Figure size 432x288 with 1 Axes>"
      ]
     },
     "metadata": {
      "needs_background": "light"
     },
     "output_type": "display_data"
    }
   ],
   "source": [
    "plt.plot(param_tune[2][1:20:3],param_tune[0][1:20:3], marker='o', markerfacecolor='blue', color='skyblue', linewidth=1,label='ALS')\n",
    "plt.plot(param_tune[2][1:20:3],[accuracy.rmse(predictions)]*7, marker='*', color='green', linewidth=1,label='Baseline ALS')\n",
    "plt.plot(param_tune[2][1:20:3],[baseline_avg_rmse]*7, marker='s', color='red', linewidth=1,label='Baseline Average')\n",
    "plt.legend()\n",
    "plt.title(\"Rmse vs No of Latent Factors at reg=0.05\")\n",
    "plt.xlabel(\"No of Latent Factors\")\n",
    "plt.ylabel(\"Rmse\")\n",
    "plt.savefig('../output/rmse_0.05_'+'2015'+'.png')"
   ]
  },
  {
   "cell_type": "code",
   "execution_count": 27,
   "metadata": {},
   "outputs": [
    {
     "name": "stdout",
     "output_type": "stream",
     "text": [
      "RMSE: 0.8797\n"
     ]
    },
    {
     "data": {
      "image/png": "[encoded data removed]",
      "text/plain": [
       "<Figure size 432x288 with 1 Axes>"
      ]
     },
     "metadata": {
      "needs_background": "light"
     },
     "output_type": "display_data"
    }
   ],
   "source": [
    "plt.plot(param_tune[2][2:21:3],param_tune[0][2:21:3], marker='o', markerfacecolor='blue', color='skyblue', linewidth=1,label='ALS')\n",
    "plt.plot(param_tune[2][2:21:3],[accuracy.rmse(predictions)]*7, marker='*', color='green', linewidth=1,label='Baseline ALS')\n",
    "plt.plot(param_tune[2][2:21:3],[baseline_avg_rmse]*7, marker='s', color='red', linewidth=1,label='Baseline Average')\n",
    "plt.legend()\n",
    "plt.title(\"Rmse vs No of Latent Factors at reg=0.1\")\n",
    "plt.xlabel(\"No of Latent Factors\")\n",
    "plt.ylabel(\"Rmse\")\n",
    "plt.savefig('../output/rmse_0.1_'+'2015'+'.png')"
   ]
  },
  {
   "cell_type": "code",
   "execution_count": 28,
   "metadata": {},
   "outputs": [
    {
     "name": "stdout",
     "output_type": "stream",
     "text": [
      "MAE:  0.6611\n"
     ]
    },
    {
     "data": {
      "image/png": "[encoded data removed]",
      "text/plain": [
       "<Figure size 432x288 with 1 Axes>"
      ]
     },
     "metadata": {
      "needs_background": "light"
     },
     "output_type": "display_data"
    }
   ],
   "source": [
    "plt.plot(param_tune[2][0:20:3],param_tune[1][0:20:3], marker='o', markerfacecolor='blue', color='skyblue', linewidth=1,label='ALS')\n",
    "plt.plot(param_tune[2][0:20:3],[accuracy.mae(predictions)]*7, marker='*', color='green', linewidth=1,label='Baseline ALS')\n",
    "plt.plot(param_tune[2][0:20:3],[baseline_avg_mae]*7, marker='s', color='red', linewidth=1,label='Baseline Average')\n",
    "plt.legend()\n",
    "plt.title(\"mae vs No of Latent Factors at reg=0.01\")\n",
    "plt.xlabel(\"No of Latent Factors\")\n",
    "plt.ylabel(\"mae\")\n",
    "plt.savefig('../output/mae_0.01_'+'2015'+'.png')"
   ]
  },
  {
   "cell_type": "code",
   "execution_count": 29,
   "metadata": {},
   "outputs": [
    {
     "name": "stdout",
     "output_type": "stream",
     "text": [
      "MAE:  0.6611\n"
     ]
    },
    {
     "data": {
      "image/png": "[encoded data removed]",
      "text/plain": [
       "<Figure size 432x288 with 1 Axes>"
      ]
     },
     "metadata": {
      "needs_background": "light"
     },
     "output_type": "display_data"
    }
   ],
   "source": [
    "plt.plot(param_tune[2][1:20:3],param_tune[1][1:20:3], marker='o', markerfacecolor='blue', color='skyblue', linewidth=1,label='ALS')\n",
    "plt.plot(param_tune[2][1:20:3],[accuracy.mae(predictions)]*7, marker='*', color='green', linewidth=1,label='Baseline ALS')\n",
    "plt.plot(param_tune[2][1:20:3],[baseline_avg_mae]*7, marker='s', color='red', linewidth=1,label='Baseline Average')\n",
    "plt.legend()\n",
    "plt.title(\"mae vs No of Latent Factors at reg=0.05\")\n",
    "plt.xlabel(\"No of Latent Factors\")\n",
    "plt.ylabel(\"mae\")\n",
    "plt.savefig('../output/mae_0.05_'+'2015'+'.png')"
   ]
  },
  {
   "cell_type": "code",
   "execution_count": 30,
   "metadata": {},
   "outputs": [
    {
     "name": "stdout",
     "output_type": "stream",
     "text": [
      "RMSE: 0.8797\n"
     ]
    },
    {
     "data": {
      "image/png": "[encoded data removed]",
      "text/plain": [
       "<Figure size 432x288 with 1 Axes>"
      ]
     },
     "metadata": {
      "needs_background": "light"
     },
     "output_type": "display_data"
    }
   ],
   "source": [
    "plt.plot(param_tune[2][2:21:3],param_tune[1][2:21:3], marker='o', markerfacecolor='blue', color='skyblue', linewidth=1,label='ALS')\n",
    "plt.plot(param_tune[2][2:21:3],[accuracy.rmse(predictions)]*7, marker='*', color='green', linewidth=1,label='Baseline ALS')\n",
    "plt.plot(param_tune[2][2:21:3],[baseline_avg_mae]*7, marker='s', color='red', linewidth=1,label='Baseline Average')\n",
    "plt.legend()\n",
    "plt.title(\"mae vs No of Latent Factors at reg=0.1\")\n",
    "plt.xlabel(\"No of Latent Factors\")\n",
    "plt.ylabel(\"mae\")\n",
    "plt.savefig('../output/mae_0.1_'+'2015'+'.png')"
   ]
  },
  {
   "cell_type": "code",
   "execution_count": null,
   "metadata": {},
   "outputs": [],
   "source": [
    "#Evaluation metric setup\n",
    "def accuracy(predictions,metric):\n",
    "    evaluator = RegressionEvaluator(metricName=metric, labelCol=\"rating\",\n",
    "                                predictionCol=\"prediction\")\n",
    "    return(evaluator.evaluate(predictions))\n",
    "\n",
    "# Build the recommendation model using ALS on the test data\n",
    "# Note we set cold start strategy to 'drop' to ensure we don't get NaN evaluation metrics\n",
    "als = ALS(maxIter=5, regParam=best_reg, userCol=\"userId\", itemCol=\"movieId\", ratingCol=\"rating\",\n",
    "          coldStartStrategy=\"drop\",rank=best_rank)\n",
    "model = als.fit(training)\n",
    "\n",
    "# Evaluate the model by computing the RMSE on the test data\n",
    "predictions_test = model.transform(test)\n",
    "predictions_test_pandas=predictions_test.toPandas()\n",
    "predictions_test_pandas['prediction']=np.where(predictions_test_pandas['prediction']>5,5,predictions_test_pandas['prediction'])\n",
    "predictions_test=spark.createDataFrame(predictions_test_pandas)\n",
    "rmse = accuracy(predictions_test,\"rmse\")\n",
    "print(\"Root-mean-square error for test data = \" + str(rmse))\n",
    "mae = accuracy(predictions_training,\"mae\")\n",
    "print(\"Mean-Absolute error for test data = \" + str(mae))"
   ]
  },
  {
   "cell_type": "markdown",
   "metadata": {},
   "source": [
    "After getting the best hyperparameter values from grid search, we use it to finally train the model on our training set and finally validate our model performance on the test set to report the results\n"
   ]
  },
  {
   "cell_type": "markdown",
   "metadata": {},
   "source": [
    "Once we have our model, we'll now use it to recommend movies to the users. The following codes will lead to the recommendation of top k movies to each user in our dataset. Using the recommendForAllUsers Function we recommend the movies which a particular user has not already watched"
   ]
  },
  {
   "cell_type": "code",
   "execution_count": null,
   "metadata": {},
   "outputs": [],
   "source": [
    "userRecs = model.recommendForAllUsers(subset_data_2['movieId'].nunique())\n",
    "recommend_movies_1=userRecs.toPandas()"
   ]
  },
  {
   "cell_type": "code",
   "execution_count": null,
   "metadata": {},
   "outputs": [],
   "source": [
    "#giving top k recommendation for each user \n",
    "list1=[]\n",
    "list2=[]\n",
    "for i in range(0,recommend_movies_1.shape[0]):\n",
    "    list3=[]\n",
    "    list4=[]\n",
    "    for j in range(0,subset_data_2['movieId'].nunique()):\n",
    "        if(len(list3)==10):\n",
    "            break\n",
    "        user_i_ratings = list(subset_data_2.loc[subset_data_2['userId'] == recommend_movies_1['userId'][i]]\n",
    "                              [['movieId']]['movieId'])\n",
    "        if (recommend_movies_1['recommendations'][i][j][0] in user_i_ratings):\n",
    "            continue\n",
    "        else:\n",
    "            list3.append(recommend_movies_1['recommendations'][i][j][0])\n",
    "            list4.append(recommend_movies_1['recommendations'][i][j][1])\n",
    "    list1.append(list3)\n",
    "    list2.append(list4)\n",
    "recommend_movies_2=recommend_movies_1[['userId']]\n",
    "recommend_movies_2['recommended_movies']=list1\n",
    "recommend_movies_2['predicted_ratings']=list2"
   ]
  },
  {
   "cell_type": "markdown",
   "metadata": {},
   "source": [
    "The user_coverage method calculates the user coverage from our model. This is the proportion of users for which atleast k movies can we recommended well. First, we define what a good recommendation is and fix a value of k to calculate the coverage value"
   ]
  },
  {
   "cell_type": "code",
   "execution_count": null,
   "metadata": {},
   "outputs": [],
   "source": [
    "#User Coverage\n",
    "def user_coverage(data,k,threshold):\n",
    "    sum=0\n",
    "    for i in range(0,recommend_movies_2.shape[0]):\n",
    "        if((np.array(recommend_movies_2['predicted_ratings'][i])>threshold).sum()>k):\n",
    "            sum+=1\n",
    "    user_coverage=sum/subset_data_2['userId'].nunique()\n",
    "    return(user_coverage)\n",
    "coverage_1=user_coverage(recommend_movies_2,5,3.5)\n",
    "coverage_1"
   ]
  },
  {
   "cell_type": "markdown",
   "metadata": {},
   "source": [
    "The catalogue_coverage method calculates the movies coverage from our model. This is the proportion of movies for covered in the recommendation for all the users. In other words, the fraction of items that are in the top-k for at least 1 user."
   ]
  },
  {
   "cell_type": "code",
   "execution_count": null,
   "metadata": {},
   "outputs": [],
   "source": [
    "#Catalogue Coverage\n",
    "def catalogue_coverage(predicted, catalog):\n",
    "    predicted_flattened = [p for sublist in predicted for p in sublist]\n",
    "    unique_predictions = len(set(predicted_flattened))\n",
    "    prediction_coverage = round(unique_predictions/(len(catalog)* 1.0)*100,2)\n",
    "    return prediction_coverage\n",
    "\n",
    "coverage_2=catalogue_coverage(list(recommend_movies_2['recommended_movies']),list(subset_data_2['movieId'].unique()))\n",
    "coverage_2"
   ]
  },
  {
   "cell_type": "code",
   "execution_count": null,
   "metadata": {},
   "outputs": [],
   "source": [
    "info['user_coverage']=coverage_1\n",
    "info['catalogue_coverage']=coverage_2"
   ]
  },
  {
   "cell_type": "code",
   "execution_count": null,
   "metadata": {},
   "outputs": [],
   "source": [
    "info.to_csv('metrics_'+str(year)+'.csv')"
   ]
  },
  {
   "cell_type": "code",
   "execution_count": null,
   "metadata": {},
   "outputs": [],
   "source": [
    "list=[2015,2014,2013,2012,2011]"
   ]
  },
  {
   "cell_type": "code",
   "execution_count": null,
   "metadata": {},
   "outputs": [],
   "source": [
    "def increase_sample(l):\n",
    "    subset_data_2=sampling(movie_data_ratings_data,l)\n",
    "    ratings = spark.createDataFrame(subset_data_2)\n",
    "    (training,tune,test) = cross_validation_setup(ratings,0.6,0.2)\n",
    "    param_tune=tune_ALS(training,tune,5,[0.01,0.05,0.1],[10,20,30,40,50,60,70])\n",
    "    best_rank=param_tune[2][param_tune[0].index(min(param_tune[0]))]\n",
    "    best_reg=param_tune[3][param_tune[0].index(min(param_tune[0]))]\n",
    "    als = ALS(maxIter=5, regParam=best_reg, userCol=\"userId\", itemCol=\"movieId\", ratingCol=\"rating\",\n",
    "          coldStartStrategy=\"drop\",rank=best_rank)\n",
    "    model = als.fit(training)\n",
    "    predictions_test = model.transform(test)\n",
    "    predictions_test_pandas=predictions_test.toPandas()\n",
    "    predictions_test_pandas['prediction']=np.where(predictions_test_pandas['prediction']>5,5,predictions_test_pandas['prediction'])\n",
    "    predictions_test=spark.createDataFrame(predictions_test_pandas)\n",
    "    rmse = accuracy(predictions_test,\"rmse\")\n",
    "    mae = accuracy(predictions_training,\"mae\")\n",
    "    return()"
   ]
  },
  {
   "cell_type": "code",
   "execution_count": null,
   "metadata": {},
   "outputs": [],
   "source": []
  },
  {
   "cell_type": "code",
   "execution_count": null,
   "metadata": {},
   "outputs": [],
   "source": []
  },
  {
   "cell_type": "code",
   "execution_count": null,
   "metadata": {},
   "outputs": [],
   "source": []
  },
  {
   "cell_type": "code",
   "execution_count": null,
   "metadata": {},
   "outputs": [],
   "source": [
    "#subset_data_2[subset_data_2['userId']==85321].sort_values(by=['rating'],ascending=False).head(10)"
   ]
  },
  {
   "cell_type": "code",
   "execution_count": null,
   "metadata": {},
   "outputs": [],
   "source": [
    "'''new_df=pd.DataFrame([85321]*10,columns=['userId'])\n",
    "new_df['movieId']=recommend_movies_2['recommended_movies'][1]\n",
    "new_df['rating']=recommend_movies_2['predicted_ratings'][1]'''"
   ]
  },
  {
   "cell_type": "code",
   "execution_count": null,
   "metadata": {},
   "outputs": [],
   "source": [
    "#new_df=new_df.merge(genre_data,on = 'movieId',how = 'inner')"
   ]
  },
  {
   "cell_type": "code",
   "execution_count": null,
   "metadata": {},
   "outputs": [],
   "source": [
    "#new_df"
   ]
  },
  {
   "cell_type": "code",
   "execution_count": null,
   "metadata": {},
   "outputs": [],
   "source": [
    "#recommend_movies_2['recommended_movies'][1]"
   ]
  }
 ],
 "metadata": {
  "kernelspec": {
   "display_name": "Python 3",
   "language": "python",
   "name": "python3"
  },
  "language_info": {
   "codemirror_mode": {
    "name": "ipython",
    "version": 3
   },
   "file_extension": ".py",
   "mimetype": "text/x-python",
   "name": "python",
   "nbconvert_exporter": "python",
   "pygments_lexer": "ipython3",
   "version": "3.7.3"
  }
 },
 "nbformat": 4,
 "nbformat_minor": 2
}
