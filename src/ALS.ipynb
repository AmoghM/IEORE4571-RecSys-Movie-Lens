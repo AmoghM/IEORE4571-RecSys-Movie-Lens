{
 "cells": [
  {
   "cell_type": "markdown",
   "metadata": {},
   "source": [
    "For running the Matrix Factorization model, we make use of pyspark environment which has a built-in ALS function. All the other methods are user defined"
   ]
  },
  {
   "cell_type": "markdown",
   "metadata": {},
   "source": [
    "Importing the required packages "
   ]
  },
  {
   "cell_type": "code",
   "execution_count": 2,
   "metadata": {},
   "outputs": [],
   "source": [
    "import pandas as pd\n",
    "import scipy\n",
    "import numpy as np\n",
    "from sklearn.metrics import mean_absolute_error\n",
    "from datetime import datetime\n",
    "from pyspark.ml.evaluation import RegressionEvaluator\n",
    "from pyspark.ml.recommendation import ALS\n",
    "from pyspark.sql import Row\n",
    "import matplotlib.pyplot as plt\n",
    "import numpy as np\n",
    "%matplotlib inline\n",
    "import time\n",
    "from sklearn.metrics import mean_squared_error\n",
    "import math"
   ]
  },
  {
   "cell_type": "code",
   "execution_count": 3,
   "metadata": {},
   "outputs": [],
   "source": [
    "#Sampling the data\n",
    "data=pd.read_csv(\"../data/ratings.csv\")\n",
    "\n",
    "genre_data=pd.read_csv(\"../data/movies.csv\")\n",
    "\n",
    "movie_data_ratings_data=data.merge(genre_data,on = 'movieId',how = 'inner')\n",
    "\n",
    "movie_data_ratings_data['timestamp'] =pd.to_datetime(movie_data_ratings_data['timestamp'],unit='s')\n",
    "movie_data_ratings_data['timestamp'] =movie_data_ratings_data['timestamp'].dt.year"
   ]
  },
  {
   "cell_type": "code",
   "execution_count": 4,
   "metadata": {},
   "outputs": [],
   "source": [
    "def sampling(movie_data_ratings_data,l):\n",
    "    subset_data=movie_data_ratings_data[movie_data_ratings_data['timestamp'].isin(l)]\n",
    "    b=pd.Series(subset_data.userId).value_counts().rename_axis('user').reset_index()\n",
    "    c=pd.Series(subset_data.movieId).value_counts().rename_axis('movie').reset_index()\n",
    "    subset_data_2=subset_data[subset_data.userId.isin(b[b.userId>30].user) & subset_data.movieId.isin(c[(c.movieId>100)].movie)].reset_index(drop=True)\n",
    "    return(subset_data_2)"
   ]
  },
  {
   "cell_type": "markdown",
   "metadata": {},
   "source": [
    "The entire movielens dataset has 20 Million ratings with 138000 users and 27000 movies. This seems to be a very large data to run on a local machine. Therefore, we decided to take a sample of the dataset. Firstly, we filter the dataset on year by taking 2015's ratings. Thereafter, we only take users who have rated at least 30 movies and movies which have received more than 100 ratings. This corresponds to a user who is active and a movie that ranges from average popularity to highly popular. This we, there would be a really low chance of getting users in the training set who are are not in the test set."
   ]
  },
  {
   "cell_type": "code",
   "execution_count": 5,
   "metadata": {},
   "outputs": [],
   "source": [
    "subset_data_2=sampling(movie_data_ratings_data,[2015])"
   ]
  },
  {
   "cell_type": "code",
   "execution_count": 6,
   "metadata": {},
   "outputs": [
    {
     "data": {
      "text/plain": [
       "0.8881853922285189"
      ]
     },
     "execution_count": 6,
     "metadata": {},
     "output_type": "execute_result"
    }
   ],
   "source": [
    "sparse_1=pd.DataFrame(pd.Series(subset_data_2.userId).value_counts().reset_index(drop=True))\n",
    "sparsity=((subset_data_2.userId.nunique()*subset_data_2.movieId.nunique())-sum(sparse_1.userId))/(subset_data_2.userId.nunique()*subset_data_2.movieId.nunique())\n",
    "sparsity"
   ]
  },
  {
   "cell_type": "code",
   "execution_count": 7,
   "metadata": {},
   "outputs": [],
   "source": [
    "#Cross validation setup\n",
    "def cross_validation_setup(ratings,n1,n2):\n",
    "    (training,tune,test) = ratings.randomSplit([n1,n2,1-n1-n2],seed = 42)\n",
    "    return(training,tune,test)"
   ]
  },
  {
   "cell_type": "markdown",
   "metadata": {},
   "source": [
    "The cross_validation_setup method is used for cross validation. This function divides the ratings dataframe into training, tune and test set. We will use the training set to train the model and tune set to tune the hyperparameters. Finally, with the best parameters, we will evaluate our model on the test set"
   ]
  },
  {
   "cell_type": "code",
   "execution_count": 8,
   "metadata": {},
   "outputs": [],
   "source": [
    " #Evaluation metric setup\n",
    "def accuracy(predictions,metric):\n",
    "    evaluator = RegressionEvaluator(metricName=metric, labelCol=\"rating\",\n",
    "                                predictionCol=\"prediction\")\n",
    "    return(evaluator.evaluate(predictions))"
   ]
  },
  {
   "cell_type": "markdown",
   "metadata": {},
   "source": [
    "The accuracy method is used for evaluating the model by passing the predictions dataframe with the actual and predicted columns along with the desired metric (eg, rmse or mae)"
   ]
  },
  {
   "cell_type": "code",
   "execution_count": 9,
   "metadata": {},
   "outputs": [],
   "source": [
    "ratings = spark.createDataFrame(subset_data_2)\n",
    "(training,tune,test) = cross_validation_setup(ratings,0.6,0.2)"
   ]
  },
  {
   "cell_type": "code",
   "execution_count": 10,
   "metadata": {},
   "outputs": [
    {
     "name": "stdout",
     "output_type": "stream",
     "text": [
      "Root-mean-square error for training data = 0.635195401136902\n",
      "Mean-Absolute error for training data = 0.4865626383544941\n"
     ]
    }
   ],
   "source": [
    "# Build the recommendation model using ALS on the training data\n",
    "# Note we set cold start strategy to 'drop' to ensure we don't get NaN evaluation metrics\n",
    "als = ALS(maxIter=5, regParam=0.05, userCol=\"userId\", itemCol=\"movieId\", ratingCol=\"rating\",\n",
    "          coldStartStrategy=\"drop\",rank=10)\n",
    "model = als.fit(training)\n",
    "\n",
    "# Evaluate the model by computing the RMSE on the training data\n",
    "predictions_training = model.transform(training)\n",
    "rmse = accuracy(predictions_training,\"rmse\")\n",
    "print(\"Root-mean-square error for training data = \" + str(rmse))\n",
    "mae = accuracy(predictions_training,\"mae\")\n",
    "print(\"Mean-Absolute error for training data = \" + str(mae))"
   ]
  },
  {
   "cell_type": "markdown",
   "metadata": {},
   "source": [
    "For testing purposes, we check if pyspark ALS is working fine by passing arbitrary parameters to the ALS function and fitting the model on the training dataset. Since we get an rmse and mae value, we are good to go ahead and tune our hyperparameters."
   ]
  },
  {
   "cell_type": "code",
   "execution_count": 11,
   "metadata": {},
   "outputs": [
    {
     "name": "stdout",
     "output_type": "stream",
     "text": [
      "Estimating biases using als...\n",
      "RMSE: 0.8797\n",
      "MAE:  0.6611\n"
     ]
    },
    {
     "data": {
      "text/plain": [
       "0.6610841765630402"
      ]
     },
     "execution_count": 11,
     "metadata": {},
     "output_type": "execute_result"
    }
   ],
   "source": [
    "#baseline model using surprise BaseLine\n",
    "from surprise.model_selection import cross_validate\n",
    "from surprise import BaselineOnly\n",
    "from surprise import accuracy\n",
    "from surprise import Reader, Dataset\n",
    "from surprise.model_selection import train_test_split\n",
    "\n",
    "training_new=training.toPandas()\n",
    "tune_new=tune.toPandas()\n",
    "\n",
    "algo = BaselineOnly()\n",
    "reader = Reader()\n",
    "data_train = Dataset.load_from_df(training_new.iloc[:,:-3][['userId', 'movieId', 'rating']], reader)\n",
    "data_tune = Dataset.load_from_df(tune_new.iloc[:,:-3][['userId', 'movieId', 'rating']], reader)\n",
    "\n",
    "trainset = data_train.build_full_trainset()\n",
    "algo.fit(trainset)\n",
    "\n",
    "\n",
    "\n",
    "trainset, tuneset = train_test_split(data_tune, test_size=1.0)\n",
    "predictions = algo.test(tuneset)\n",
    "\n",
    "\n",
    "accuracy.rmse(predictions)\n",
    "accuracy.mae(predictions)"
   ]
  },
  {
   "cell_type": "markdown",
   "metadata": {},
   "source": [
    "The best way to check if our recommendation algorithm is performing well is to compare it against a baseline model. A baseline model is one in which we don't use any predictions. It can be assumed as a lazy model to give ratings to the missing user-item pairs. The first baseline model we considered is the user-item bias which is given by the ALS model. The above code computes the baseline metric for the tune set"
   ]
  },
  {
   "cell_type": "code",
   "execution_count": 12,
   "metadata": {},
   "outputs": [
    {
     "name": "stdout",
     "output_type": "stream",
     "text": [
      "Baseline RMSE: 0.9075898245990541\n",
      "Baseline MAE: 0.8299210848995348\n"
     ]
    }
   ],
   "source": [
    "training_df=training.toPandas()\n",
    "tune_df=tune.toPandas()\n",
    "temp_df=pd.DataFrame(training_df.groupby('userId')['rating'].mean()).reset_index()\n",
    "temp_df=temp_df.rename(columns={\"rating\": \"avg_rating_user\"})\n",
    "temp_df_2=pd.DataFrame(training_df.groupby('movieId')['rating'].mean()).reset_index()\n",
    "temp_df_2=temp_df_2.rename(columns={\"rating\": \"avg_rating_movie\"})\n",
    "tune_df=tune_df.merge(temp_df,how='inner',on='userId')\n",
    "tune_df=tune_df.merge(temp_df_2,how='inner',on='movieId')\n",
    "tune_df['prediction']=(tune_df['avg_rating_user']+tune_df['avg_rating_movie'])/2\n",
    "baseline_avg_rmse=math.sqrt(mean_squared_error(tune_df['rating'],tune_df['prediction']))\n",
    "baseline_avg_mae=math.sqrt(mean_absolute_error(tune_df['rating'],tune_df['prediction']))\n",
    "print('Baseline RMSE:',baseline_avg_rmse)\n",
    "print('Baseline MAE:',baseline_avg_mae)"
   ]
  },
  {
   "cell_type": "markdown",
   "metadata": {},
   "source": [
    "We also considered creating another baseline model which gives a missing user-item pair, a rating which is calculated using the average of 2 things:\n",
    "1) Average rating that particular user has given\n",
    "2) Average rating that particular movie has received"
   ]
  },
  {
   "cell_type": "code",
   "execution_count": 13,
   "metadata": {},
   "outputs": [],
   "source": [
    "#Parameter tuning\n",
    "def tune_ALS(train_data, validation_data, maxIter, regParams, ranks):\n",
    "    start_time = time.time()\n",
    "    min_error = float('inf')\n",
    "    min_mae= float('inf')\n",
    "    best_rank = -1\n",
    "    best_regularization = regParams[0]\n",
    "    best_model = None\n",
    "    l1=[]\n",
    "    l2=[]\n",
    "    l3=[]\n",
    "    l4=[]\n",
    "    for rank in ranks:\n",
    "        for reg in regParams:\n",
    "                    # get ALS model\n",
    "            als = ALS(userCol=\"userId\", itemCol=\"movieId\", ratingCol=\"rating\",\n",
    "          coldStartStrategy=\"drop\").setMaxIter(maxIter).setRank(rank).setRegParam(reg)\n",
    "            # train ALS model\n",
    "            model = als.fit(train_data)\n",
    "            # evaluate the model by computing the RMSE on the validation data\n",
    "            predictions = model.transform(validation_data)\n",
    "            evaluator = RegressionEvaluator(metricName=\"rmse\",\n",
    "                                            labelCol=\"rating\",\n",
    "                                            predictionCol=\"prediction\")\n",
    "            rmse = evaluator.evaluate(predictions)\n",
    "            evaluator2 = RegressionEvaluator(metricName=\"mae\",\n",
    "                                            labelCol=\"rating\",\n",
    "                                            predictionCol=\"prediction\")\n",
    "            mae = evaluator2.evaluate(predictions)            \n",
    "            l1.append(rmse)\n",
    "            l2.append(mae)\n",
    "            if (rmse < min_error): #and (mae < min_mae):\n",
    "                min_error = rmse\n",
    "                min_mae= mae\n",
    "                best_rank = rank\n",
    "                best_model = model\n",
    "            l3.append(rank)\n",
    "            l4.append(reg)\n",
    "    print('\\nThe best model has {} latent factors and '\n",
    "          'regularization = {}'.format(best_rank, best_regularization))\n",
    "    return (l1,l2,l3,l4,time.time()-start_time)"
   ]
  },
  {
   "cell_type": "markdown",
   "metadata": {},
   "source": [
    "The above method is used for training the hyperparameters for our ALS model. It takes in the training data, tune data and a set of range of hyperparameter values to return the best model, i.e. one having the least rmse"
   ]
  },
  {
   "cell_type": "code",
   "execution_count": 14,
   "metadata": {},
   "outputs": [
    {
     "name": "stdout",
     "output_type": "stream",
     "text": [
      "\n",
      "The best model has 70 latent factors and regularization = 0.01\n"
     ]
    }
   ],
   "source": [
    "param_tune=tune_ALS(training,tune,5,[0.01,0.05,0.1],[10,20,30,40,50,60,70])"
   ]
  },
  {
   "cell_type": "code",
   "execution_count": 15,
   "metadata": {},
   "outputs": [],
   "source": [
    "best_rank=param_tune[2][param_tune[0].index(min(param_tune[0]))]\n",
    "best_reg=param_tune[3][param_tune[0].index(min(param_tune[0]))]"
   ]
  },
  {
   "cell_type": "markdown",
   "metadata": {},
   "source": [
    "After trying the range of hyperparameters for reularization and latent factors, we plot the model performance (rmse/mae) with respect to these parameters. Since there are two hyperparameters, we fix the regularization parameter and plot for different values of latent factors"
   ]
  },
  {
   "cell_type": "code",
   "execution_count": 16,
   "metadata": {},
   "outputs": [
    {
     "name": "stdout",
     "output_type": "stream",
     "text": [
      "RMSE: 0.8797\n"
     ]
    },
    {
     "data": {
      "image/png": "[encoded data removed]",
      "text/plain": [
       "<Figure size 432x288 with 1 Axes>"
      ]
     },
     "metadata": {
      "needs_background": "light"
     },
     "output_type": "display_data"
    }
   ],
   "source": [
    "plt.plot(param_tune[2][0:20:3],param_tune[0][0:20:3], marker='o', markerfacecolor='blue', color='skyblue', linewidth=1,label='ALS')\n",
    "plt.plot(param_tune[2][0:20:3],[accuracy.rmse(predictions)]*7, marker='*', color='green', linewidth=1,label='Baseline ALS')\n",
    "plt.plot(param_tune[2][0:20:3],[baseline_avg_rmse]*7, marker='s', color='red', linewidth=1,label='Baseline Average')\n",
    "plt.legend()\n",
    "plt.title(\"Rmse vs No of Latent Factors at reg=0.01\")\n",
    "plt.xlabel(\"No of Latent Factors\")\n",
    "plt.ylabel(\"Rmse\")\n",
    "plt.savefig('../output/rmse_0.01_'+'2015'+'.png')"
   ]
  },
  {
   "cell_type": "code",
   "execution_count": 17,
   "metadata": {},
   "outputs": [
    {
     "name": "stdout",
     "output_type": "stream",
     "text": [
      "RMSE: 0.8797\n"
     ]
    },
    {
     "data": {
      "image/png": "[encoded data removed]",
      "text/plain": [
       "<Figure size 432x288 with 1 Axes>"
      ]
     },
     "metadata": {
      "needs_background": "light"
     },
     "output_type": "display_data"
    }
   ],
   "source": [
    "plt.plot(param_tune[2][1:20:3],param_tune[0][1:20:3], marker='o', markerfacecolor='blue', color='skyblue', linewidth=1,label='ALS')\n",
    "plt.plot(param_tune[2][1:20:3],[accuracy.rmse(predictions)]*7, marker='*', color='green', linewidth=1,label='Baseline ALS')\n",
    "plt.plot(param_tune[2][1:20:3],[baseline_avg_rmse]*7, marker='s', color='red', linewidth=1,label='Baseline Average')\n",
    "plt.legend()\n",
    "plt.title(\"Rmse vs No of Latent Factors at reg=0.05\")\n",
    "plt.xlabel(\"No of Latent Factors\")\n",
    "plt.ylabel(\"Rmse\")\n",
    "plt.savefig('../output/rmse_0.05_'+'2015'+'.png')"
   ]
  },
  {
   "cell_type": "code",
   "execution_count": 18,
   "metadata": {},
   "outputs": [
    {
     "name": "stdout",
     "output_type": "stream",
     "text": [
      "RMSE: 0.8797\n"
     ]
    },
    {
     "data": {
      "image/png": "[encoded data removed]",
      "text/plain": [
       "<Figure size 432x288 with 1 Axes>"
      ]
     },
     "metadata": {
      "needs_background": "light"
     },
     "output_type": "display_data"
    }
   ],
   "source": [
    "plt.plot(param_tune[2][2:21:3],param_tune[0][2:21:3], marker='o', markerfacecolor='blue', color='skyblue', linewidth=1,label='ALS')\n",
    "plt.plot(param_tune[2][2:21:3],[accuracy.rmse(predictions)]*7, marker='*', color='green', linewidth=1,label='Baseline ALS')\n",
    "plt.plot(param_tune[2][2:21:3],[baseline_avg_rmse]*7, marker='s', color='red', linewidth=1,label='Baseline Average')\n",
    "plt.legend()\n",
    "plt.title(\"Rmse vs No of Latent Factors at reg=0.1\")\n",
    "plt.xlabel(\"No of Latent Factors\")\n",
    "plt.ylabel(\"Rmse\")\n",
    "plt.savefig('../output/rmse_0.1_'+'2015'+'.png')"
   ]
  },
  {
   "cell_type": "code",
   "execution_count": 19,
   "metadata": {},
   "outputs": [
    {
     "name": "stdout",
     "output_type": "stream",
     "text": [
      "MAE:  0.6611\n"
     ]
    },
    {
     "data": {
      "image/png": "[encoded data removed]",
      "text/plain": [
       "<Figure size 432x288 with 1 Axes>"
      ]
     },
     "metadata": {
      "needs_background": "light"
     },
     "output_type": "display_data"
    }
   ],
   "source": [
    "plt.plot(param_tune[2][0:20:3],param_tune[1][0:20:3], marker='o', markerfacecolor='blue', color='skyblue', linewidth=1,label='ALS')\n",
    "plt.plot(param_tune[2][0:20:3],[accuracy.mae(predictions)]*7, marker='*', color='green', linewidth=1,label='Baseline ALS')\n",
    "plt.plot(param_tune[2][0:20:3],[baseline_avg_mae]*7, marker='s', color='red', linewidth=1,label='Baseline Average')\n",
    "plt.legend()\n",
    "plt.title(\"mae vs No of Latent Factors at reg=0.01\")\n",
    "plt.xlabel(\"No of Latent Factors\")\n",
    "plt.ylabel(\"mae\")\n",
    "plt.savefig('../output/mae_0.01_'+'2015'+'.png')"
   ]
  },
  {
   "cell_type": "code",
   "execution_count": 20,
   "metadata": {},
   "outputs": [
    {
     "name": "stdout",
     "output_type": "stream",
     "text": [
      "MAE:  0.6611\n"
     ]
    },
    {
     "data": {
      "image/png": "[encoded data removed]",
      "text/plain": [
       "<Figure size 432x288 with 1 Axes>"
      ]
     },
     "metadata": {
      "needs_background": "light"
     },
     "output_type": "display_data"
    }
   ],
   "source": [
    "plt.plot(param_tune[2][1:20:3],param_tune[1][1:20:3], marker='o', markerfacecolor='blue', color='skyblue', linewidth=1,label='ALS')\n",
    "plt.plot(param_tune[2][1:20:3],[accuracy.mae(predictions)]*7, marker='*', color='green', linewidth=1,label='Baseline ALS')\n",
    "plt.plot(param_tune[2][1:20:3],[baseline_avg_mae]*7, marker='s', color='red', linewidth=1,label='Baseline Average')\n",
    "plt.legend()\n",
    "plt.title(\"mae vs No of Latent Factors at reg=0.05\")\n",
    "plt.xlabel(\"No of Latent Factors\")\n",
    "plt.ylabel(\"mae\")\n",
    "plt.savefig('../output/mae_0.05_'+'2015'+'.png')"
   ]
  },
  {
   "cell_type": "code",
   "execution_count": 21,
   "metadata": {},
   "outputs": [
    {
     "name": "stdout",
     "output_type": "stream",
     "text": [
      "RMSE: 0.8797\n"
     ]
    },
    {
     "data": {
      "image/png": "[encoded data removed]",
      "text/plain": [
       "<Figure size 432x288 with 1 Axes>"
      ]
     },
     "metadata": {
      "needs_background": "light"
     },
     "output_type": "display_data"
    }
   ],
   "source": [
    "plt.plot(param_tune[2][2:21:3],param_tune[1][2:21:3], marker='o', markerfacecolor='blue', color='skyblue', linewidth=1,label='ALS')\n",
    "plt.plot(param_tune[2][2:21:3],[accuracy.rmse(predictions)]*7, marker='*', color='green', linewidth=1,label='Baseline ALS')\n",
    "plt.plot(param_tune[2][2:21:3],[baseline_avg_mae]*7, marker='s', color='red', linewidth=1,label='Baseline Average')\n",
    "plt.legend()\n",
    "plt.title(\"mae vs No of Latent Factors at reg=0.1\")\n",
    "plt.xlabel(\"No of Latent Factors\")\n",
    "plt.ylabel(\"mae\")\n",
    "plt.savefig('../output/mae_0.1_'+'2015'+'.png')"
   ]
  },
  {
   "cell_type": "code",
   "execution_count": 22,
   "metadata": {},
   "outputs": [
    {
     "name": "stdout",
     "output_type": "stream",
     "text": [
      "Root-mean-square error for test data = 0.8486288527274801\n",
      "Mean-Absolute error for test data = 0.6469606580483255\n"
     ]
    }
   ],
   "source": [
    "#Evaluation metric setup\n",
    "def accuracy(predictions,metric):\n",
    "    evaluator = RegressionEvaluator(metricName=metric, labelCol=\"rating\",\n",
    "                                predictionCol=\"prediction\")\n",
    "    return(evaluator.evaluate(predictions))\n",
    "\n",
    "# Build the recommendation model using ALS on the test data\n",
    "# Note we set cold start strategy to 'drop' to ensure we don't get NaN evaluation metrics\n",
    "als = ALS(maxIter=5, regParam=best_reg, userCol=\"userId\", itemCol=\"movieId\", ratingCol=\"rating\",\n",
    "          coldStartStrategy=\"drop\",rank=best_rank)\n",
    "model = als.fit(training)\n",
    "\n",
    "# Evaluate the model by computing the RMSE on the test data\n",
    "predictions_test = model.transform(test)\n",
    "predictions_test_pandas=predictions_test.toPandas()\n",
    "predictions_test_pandas['prediction']=np.where(predictions_test_pandas['prediction']>5,5,predictions_test_pandas['prediction'])\n",
    "predictions_test=spark.createDataFrame(predictions_test_pandas)\n",
    "rmse = accuracy(predictions_test,\"rmse\")\n",
    "print(\"Root-mean-square error for test data = \" + str(rmse))\n",
    "mae = accuracy(predictions_test,\"mae\")\n",
    "print(\"Mean-Absolute error for test data = \" + str(mae))"
   ]
  },
  {
   "cell_type": "markdown",
   "metadata": {},
   "source": [
    "After getting the best hyperparameter values from grid search, we use it to finally train the model on our training set and finally validate our model performance on the test set to report the results\n"
   ]
  },
  {
   "cell_type": "markdown",
   "metadata": {},
   "source": [
    "Once we have our model, we'll now use it to recommend movies to the users. The following codes will lead to the recommendation of top k movies to each user in our dataset. Using the recommendForUserSubset Function we recommend the movies which a particular user has not already watched. We use this function to recommend for training and test set separately"
   ]
  },
  {
   "cell_type": "code",
   "execution_count": 24,
   "metadata": {},
   "outputs": [],
   "source": [
    "userRecs_training = model.recommendForUserSubset(training,subset_data_2['movieId'].nunique())\n",
    "recommend_movies_1_training=userRecs_training.toPandas()\n",
    "userRecs_test = model.recommendForUserSubset(test,subset_data_2['movieId'].nunique())\n",
    "recommend_movies_1_test=userRecs_test.toPandas()"
   ]
  },
  {
   "cell_type": "code",
   "execution_count": 25,
   "metadata": {},
   "outputs": [],
   "source": [
    "#giving top k recommendation for each user \n",
    "def top_k_recommendation(recommend_movies_1,subset_data_2):\n",
    "    list1=[]\n",
    "    list2=[]\n",
    "    for i in range(0,recommend_movies_1.shape[0]):\n",
    "        list3=[]\n",
    "        list4=[]\n",
    "        for j in range(0,subset_data_2['movieId'].nunique()):\n",
    "            if(len(list3)==10):\n",
    "                break\n",
    "            user_i_ratings = list(subset_data_2.loc[subset_data_2['userId'] == recommend_movies_1['userId'][i]]\n",
    "                                  [['movieId']]['movieId'])\n",
    "            if (recommend_movies_1['recommendations'][i][j][0] in user_i_ratings):\n",
    "                continue\n",
    "            else:\n",
    "                list3.append(recommend_movies_1['recommendations'][i][j][0])\n",
    "                list4.append(recommend_movies_1['recommendations'][i][j][1])\n",
    "        list1.append(list3)\n",
    "        list2.append(list4)\n",
    "    return(list1,list2)\n",
    "recommend_training=top_k_recommendation(recommend_movies_1_training,subset_data_2)\n",
    "recommend_test=top_k_recommendation(recommend_movies_1_test,subset_data_2)"
   ]
  },
  {
   "cell_type": "code",
   "execution_count": 27,
   "metadata": {},
   "outputs": [],
   "source": [
    "recommend_movies_2_train=recommend_movies_1_training[['userId']]\n",
    "recommend_movies_2_train['recommended_movies']=recommend_training[0]\n",
    "recommend_movies_2_train['predicted_ratings']=recommend_training[1]\n",
    "\n",
    "recommend_movies_2_test=recommend_movies_1_test[['userId']]\n",
    "recommend_movies_2_test['recommended_movies']=recommend_test[0]\n",
    "recommend_movies_2_test['predicted_ratings']=recommend_test[1]"
   ]
  },
  {
   "cell_type": "markdown",
   "metadata": {},
   "source": [
    "The user_coverage method calculates the user coverage from our model. This is the proportion of users for which atleast k movies can be recommended well. First, we define what a good recommendation is and fix a value of k to calculate the coverage value"
   ]
  },
  {
   "cell_type": "code",
   "execution_count": 29,
   "metadata": {},
   "outputs": [
    {
     "name": "stdout",
     "output_type": "stream",
     "text": [
      "User coverage on training set: 0.9041305456399796\n",
      "User coverage on test set: 0.898521162672106\n"
     ]
    }
   ],
   "source": [
    "#User Coverage\n",
    "def user_coverage(data,k,threshold):\n",
    "    sum=0\n",
    "    for i in range(0,data.shape[0]):\n",
    "        if((np.array(data['predicted_ratings'][i])>threshold).sum()>k):\n",
    "            sum+=1\n",
    "    user_coverage=sum/subset_data_2['userId'].nunique()\n",
    "    return(user_coverage)\n",
    "coverage_1_train=user_coverage(recommend_movies_2_train,5,3.5)\n",
    "coverage_1_test=user_coverage(recommend_movies_2_test,5,3.5)\n",
    "print('User coverage on training set:',coverage_1_train)\n",
    "print('User coverage on test set:',coverage_1_test)"
   ]
  },
  {
   "cell_type": "markdown",
   "metadata": {},
   "source": [
    "The catalogue_coverage method calculates the movies coverage from our model. This is the proportion of movies covered in the recommendation for all the users. In other words, the fraction of items that are in the top-k for at least 1 user."
   ]
  },
  {
   "cell_type": "code",
   "execution_count": 30,
   "metadata": {},
   "outputs": [
    {
     "name": "stdout",
     "output_type": "stream",
     "text": [
      "Catalogue coverage on training set: 89.48\n",
      "Catalogue coverage on test set: 89.17\n"
     ]
    }
   ],
   "source": [
    "#Catalogue Coverage\n",
    "def catalogue_coverage(predicted, catalog):\n",
    "    predicted_flattened = [p for sublist in predicted for p in sublist]\n",
    "    unique_predictions = len(set(predicted_flattened))\n",
    "    prediction_coverage = round(unique_predictions/(len(catalog)* 1.0)*100,2)\n",
    "    return prediction_coverage\n",
    "\n",
    "coverage_2_train=catalogue_coverage(list(recommend_movies_2_train['recommended_movies']),list(subset_data_2['movieId'].unique()))\n",
    "coverage_2_test=catalogue_coverage(list(recommend_movies_2_test['recommended_movies']),list(subset_data_2['movieId'].unique()))\n",
    "print('Catalogue coverage on training set:',coverage_2_train)\n",
    "print('Catalogue coverage on test set:',coverage_2_test)"
   ]
  },
  {
   "cell_type": "markdown",
   "metadata": {},
   "source": [
    "The following code snippets and the method increase_sample gradually increases the sample size (By including previos years data at each step) and calculates the run time and accuracy for each sample. Our goal here is to see how the accuracy and algorithm scales with time"
   ]
  },
  {
   "cell_type": "code",
   "execution_count": 31,
   "metadata": {},
   "outputs": [],
   "source": [
    "list=[2015,2014,2013,2012,2011]"
   ]
  },
  {
   "cell_type": "code",
   "execution_count": 41,
   "metadata": {},
   "outputs": [],
   "source": [
    "def increase_sample(l):\n",
    "    subset_data_2=sampling(movie_data_ratings_data,l)\n",
    "    ratings = spark.createDataFrame(subset_data_2)\n",
    "    (training,tune,test) = cross_validation_setup(ratings,0.6,0.2)\n",
    "    param_tune=tune_ALS(training,tune,5,[0.01,0.05,0.1],[10,20,30,40,50,60,70])\n",
    "    best_rank=param_tune[2][param_tune[0].index(min(param_tune[0]))]\n",
    "    best_reg=param_tune[3][param_tune[0].index(min(param_tune[0]))]\n",
    "    als = ALS(maxIter=5, regParam=best_reg, userCol=\"userId\", itemCol=\"movieId\", ratingCol=\"rating\",\n",
    "          coldStartStrategy=\"drop\",rank=best_rank)\n",
    "    model = als.fit(training)\n",
    "    predictions_test = model.transform(test)\n",
    "    predictions_test_pandas=predictions_test.toPandas()\n",
    "    predictions_test_pandas['prediction']=np.where(predictions_test_pandas['prediction']>5,5,predictions_test_pandas['prediction'])\n",
    "    predictions_test=spark.createDataFrame(predictions_test_pandas)\n",
    "    rmse = accuracy(predictions_test,\"rmse\")\n",
    "    mae = accuracy(predictions_test,\"mae\")\n",
    "    return(subset_data_2.shape[0],param_tune[4],rmse,mae)"
   ]
  },
  {
   "cell_type": "code",
   "execution_count": 45,
   "metadata": {},
   "outputs": [
    {
     "name": "stdout",
     "output_type": "stream",
     "text": [
      "\n",
      "The best model has 70 latent factors and regularization = 0.01\n",
      "\n",
      "The best model has 10 latent factors and regularization = 0.01\n",
      "\n",
      "The best model has 10 latent factors and regularization = 0.01\n",
      "\n",
      "The best model has 10 latent factors and regularization = 0.01\n"
     ]
    }
   ],
   "source": [
    "years=[2015,2014,2013,2012]\n",
    "index=['2015-2015','2014-2015','2013-2015','2012-2015']\n",
    "data_increase=pd.DataFrame(columns=['sample_size','time','rmse','mae'],index=index).rename_axis('year').reset_index()\n",
    "\n",
    "for i in range(0,len(years)):\n",
    "    A=increase_sample(years[0:i+1])\n",
    "    data_increase['sample_size'][i]=A[0]\n",
    "    data_increase['time'][i]=A[1]\n",
    "    data_increase['rmse'][i]=A[2]\n",
    "    data_increase['mae'][i]=A[3]"
   ]
  },
  {
   "cell_type": "code",
   "execution_count": 58,
   "metadata": {},
   "outputs": [],
   "source": [
    "data_increase.to_csv(\"../data/data_increase.csv\")"
   ]
  },
  {
   "cell_type": "markdown",
   "metadata": {},
   "source": [
    "Below, we have plotted the Time and accuracy v/s the sample size to see how our algorithm scales with time. When we increase the sample size, eventually our model starts to show better results in terms of accuracy as the RMSE drops down by 8.2% but the time for model and hyperparameter training increase by 3x which might be a potential issue if we actually have to train our model on the entire datates. Also, since our local machine has limited computational power, we could increase our sample size beyond 1.8 Million as it was throwing OOM error.  "
   ]
  },
  {
   "cell_type": "code",
   "execution_count": 47,
   "metadata": {},
   "outputs": [
    {
     "data": {
      "image/png": "[encoded data removed]",
      "text/plain": [
       "<Figure size 432x288 with 1 Axes>"
      ]
     },
     "metadata": {
      "needs_background": "light"
     },
     "output_type": "display_data"
    }
   ],
   "source": [
    "plt.plot(data_increase['sample_size'][0:4], data_increase['time'][0:4])\n",
    "plt.ylabel('Time (Seconds)')\n",
    "plt.xlabel('No of Ratings (Sample Size)')\n",
    "plt.title('Plot of sample size v/s time')\n",
    "plt.savefig('../output/sample_size_vs_time'+'.png')"
   ]
  },
  {
   "cell_type": "code",
   "execution_count": 48,
   "metadata": {},
   "outputs": [
    {
     "data": {
      "image/png": "[encoded data removed]",
      "text/plain": [
       "<Figure size 432x288 with 1 Axes>"
      ]
     },
     "metadata": {
      "needs_background": "light"
     },
     "output_type": "display_data"
    }
   ],
   "source": [
    "plt.plot(data_increase['sample_size'][0:4], data_increase['rmse'][0:4])\n",
    "plt.ylabel('RMSE')\n",
    "plt.xlabel('No of Ratings (Sample Size)')\n",
    "plt.title('Plot of sample size v/s RMSE')\n",
    "plt.savefig('../output/sample_size_vs_rmse'+'.png')"
   ]
  },
  {
   "cell_type": "code",
   "execution_count": 49,
   "metadata": {},
   "outputs": [
    {
     "data": {
      "image/png": "[encoded data removed]",
      "text/plain": [
       "<Figure size 432x288 with 1 Axes>"
      ]
     },
     "metadata": {
      "needs_background": "light"
     },
     "output_type": "display_data"
    }
   ],
   "source": [
    "plt.plot(data_increase['sample_size'][0:4], data_increase['mae'][0:4])\n",
    "plt.ylabel('MAE')\n",
    "plt.xlabel('No of Ratings (Sample Size)')\n",
    "plt.title('Plot of sample size v/s MAE')\n",
    "plt.savefig('../output/sample_size_vs_mae'+'.png')"
   ]
  },
  {
   "cell_type": "markdown",
   "metadata": {},
   "source": [
    "To check for diversity, we take a random userId and look at the top 10 rated movies she/he already watched and compare it with our model results to see which movies will be recommended. Moreover, we check for diversity by looking at genres this user likes and what is the mix of genres we are recommending to them"
   ]
  },
  {
   "cell_type": "code",
   "execution_count": 60,
   "metadata": {},
   "outputs": [
    {
     "data": {
      "text/html": [
       "<div>\n",
       "<style scoped>\n",
       "    .dataframe tbody tr th:only-of-type {\n",
       "        vertical-align: middle;\n",
       "    }\n",
       "\n",
       "    .dataframe tbody tr th {\n",
       "        vertical-align: top;\n",
       "    }\n",
       "\n",
       "    .dataframe thead th {\n",
       "        text-align: right;\n",
       "    }\n",
       "</style>\n",
       "<table border=\"1\" class=\"dataframe\">\n",
       "  <thead>\n",
       "    <tr style=\"text-align: right;\">\n",
       "      <th></th>\n",
       "      <th>userId</th>\n",
       "      <th>movieId</th>\n",
       "      <th>rating</th>\n",
       "      <th>timestamp</th>\n",
       "      <th>title</th>\n",
       "      <th>genres</th>\n",
       "    </tr>\n",
       "  </thead>\n",
       "  <tbody>\n",
       "    <tr>\n",
       "      <th>66204</th>\n",
       "      <td>1644</td>\n",
       "      <td>56757</td>\n",
       "      <td>5.0</td>\n",
       "      <td>2015</td>\n",
       "      <td>Sweeney Todd: The Demon Barber of Fleet Street...</td>\n",
       "      <td>Drama|Horror|Musical|Thriller</td>\n",
       "    </tr>\n",
       "    <tr>\n",
       "      <th>112137</th>\n",
       "      <td>1644</td>\n",
       "      <td>109487</td>\n",
       "      <td>5.0</td>\n",
       "      <td>2015</td>\n",
       "      <td>Interstellar (2014)</td>\n",
       "      <td>Sci-Fi|IMAX</td>\n",
       "    </tr>\n",
       "    <tr>\n",
       "      <th>59709</th>\n",
       "      <td>1644</td>\n",
       "      <td>33679</td>\n",
       "      <td>5.0</td>\n",
       "      <td>2015</td>\n",
       "      <td>Mr. &amp; Mrs. Smith (2005)</td>\n",
       "      <td>Action|Adventure|Comedy|Romance</td>\n",
       "    </tr>\n",
       "    <tr>\n",
       "      <th>65263</th>\n",
       "      <td>1644</td>\n",
       "      <td>53125</td>\n",
       "      <td>5.0</td>\n",
       "      <td>2015</td>\n",
       "      <td>Pirates of the Caribbean: At World's End (2007)</td>\n",
       "      <td>Action|Adventure|Comedy|Fantasy</td>\n",
       "    </tr>\n",
       "    <tr>\n",
       "      <th>85704</th>\n",
       "      <td>1644</td>\n",
       "      <td>33004</td>\n",
       "      <td>5.0</td>\n",
       "      <td>2015</td>\n",
       "      <td>Hitchhiker's Guide to the Galaxy, The (2005)</td>\n",
       "      <td>Adventure|Comedy|Sci-Fi</td>\n",
       "    </tr>\n",
       "    <tr>\n",
       "      <th>22009</th>\n",
       "      <td>1644</td>\n",
       "      <td>6754</td>\n",
       "      <td>5.0</td>\n",
       "      <td>2015</td>\n",
       "      <td>Underworld (2003)</td>\n",
       "      <td>Action|Fantasy|Horror</td>\n",
       "    </tr>\n",
       "    <tr>\n",
       "      <th>21487</th>\n",
       "      <td>1644</td>\n",
       "      <td>6539</td>\n",
       "      <td>5.0</td>\n",
       "      <td>2015</td>\n",
       "      <td>Pirates of the Caribbean: The Curse of the Bla...</td>\n",
       "      <td>Action|Adventure|Comedy|Fantasy</td>\n",
       "    </tr>\n",
       "    <tr>\n",
       "      <th>16086</th>\n",
       "      <td>1644</td>\n",
       "      <td>3081</td>\n",
       "      <td>5.0</td>\n",
       "      <td>2015</td>\n",
       "      <td>Sleepy Hollow (1999)</td>\n",
       "      <td>Fantasy|Horror|Mystery|Romance</td>\n",
       "    </tr>\n",
       "    <tr>\n",
       "      <th>94603</th>\n",
       "      <td>1644</td>\n",
       "      <td>86880</td>\n",
       "      <td>5.0</td>\n",
       "      <td>2015</td>\n",
       "      <td>Pirates of the Caribbean: On Stranger Tides (2...</td>\n",
       "      <td>Action|Adventure|Fantasy|IMAX</td>\n",
       "    </tr>\n",
       "    <tr>\n",
       "      <th>1503</th>\n",
       "      <td>1644</td>\n",
       "      <td>253</td>\n",
       "      <td>5.0</td>\n",
       "      <td>2015</td>\n",
       "      <td>Interview with the Vampire: The Vampire Chroni...</td>\n",
       "      <td>Drama|Horror</td>\n",
       "    </tr>\n",
       "  </tbody>\n",
       "</table>\n",
       "</div>"
      ],
      "text/plain": [
       "        userId  movieId  rating  timestamp  \\\n",
       "66204     1644    56757     5.0       2015   \n",
       "112137    1644   109487     5.0       2015   \n",
       "59709     1644    33679     5.0       2015   \n",
       "65263     1644    53125     5.0       2015   \n",
       "85704     1644    33004     5.0       2015   \n",
       "22009     1644     6754     5.0       2015   \n",
       "21487     1644     6539     5.0       2015   \n",
       "16086     1644     3081     5.0       2015   \n",
       "94603     1644    86880     5.0       2015   \n",
       "1503      1644      253     5.0       2015   \n",
       "\n",
       "                                                    title  \\\n",
       "66204   Sweeney Todd: The Demon Barber of Fleet Street...   \n",
       "112137                                Interstellar (2014)   \n",
       "59709                             Mr. & Mrs. Smith (2005)   \n",
       "65263     Pirates of the Caribbean: At World's End (2007)   \n",
       "85704        Hitchhiker's Guide to the Galaxy, The (2005)   \n",
       "22009                                   Underworld (2003)   \n",
       "21487   Pirates of the Caribbean: The Curse of the Bla...   \n",
       "16086                                Sleepy Hollow (1999)   \n",
       "94603   Pirates of the Caribbean: On Stranger Tides (2...   \n",
       "1503    Interview with the Vampire: The Vampire Chroni...   \n",
       "\n",
       "                                 genres  \n",
       "66204     Drama|Horror|Musical|Thriller  \n",
       "112137                      Sci-Fi|IMAX  \n",
       "59709   Action|Adventure|Comedy|Romance  \n",
       "65263   Action|Adventure|Comedy|Fantasy  \n",
       "85704           Adventure|Comedy|Sci-Fi  \n",
       "22009             Action|Fantasy|Horror  \n",
       "21487   Action|Adventure|Comedy|Fantasy  \n",
       "16086    Fantasy|Horror|Mystery|Romance  \n",
       "94603     Action|Adventure|Fantasy|IMAX  \n",
       "1503                       Drama|Horror  "
      ]
     },
     "execution_count": 60,
     "metadata": {},
     "output_type": "execute_result"
    }
   ],
   "source": [
    "Watched=subset_data_2[subset_data_2['userId']==1644].sort_values(by=['rating'],ascending=False).head(10)\n",
    "Watched"
   ]
  },
  {
   "cell_type": "code",
   "execution_count": 62,
   "metadata": {},
   "outputs": [],
   "source": [
    "Watched.to_csv(\"../data/ALS_watched_eg.csv\")"
   ]
  },
  {
   "cell_type": "code",
   "execution_count": 56,
   "metadata": {},
   "outputs": [
    {
     "data": {
      "text/html": [
       "<div>\n",
       "<style scoped>\n",
       "    .dataframe tbody tr th:only-of-type {\n",
       "        vertical-align: middle;\n",
       "    }\n",
       "\n",
       "    .dataframe tbody tr th {\n",
       "        vertical-align: top;\n",
       "    }\n",
       "\n",
       "    .dataframe thead th {\n",
       "        text-align: right;\n",
       "    }\n",
       "</style>\n",
       "<table border=\"1\" class=\"dataframe\">\n",
       "  <thead>\n",
       "    <tr style=\"text-align: right;\">\n",
       "      <th></th>\n",
       "      <th>userId</th>\n",
       "      <th>movieId</th>\n",
       "      <th>rating</th>\n",
       "      <th>title</th>\n",
       "      <th>genres</th>\n",
       "    </tr>\n",
       "  </thead>\n",
       "  <tbody>\n",
       "    <tr>\n",
       "      <th>0</th>\n",
       "      <td>1644</td>\n",
       "      <td>1172</td>\n",
       "      <td>4.975449</td>\n",
       "      <td>Cinema Paradiso (Nuovo cinema Paradiso) (1989)</td>\n",
       "      <td>Drama</td>\n",
       "    </tr>\n",
       "    <tr>\n",
       "      <th>1</th>\n",
       "      <td>1644</td>\n",
       "      <td>5995</td>\n",
       "      <td>4.939308</td>\n",
       "      <td>Pianist, The (2002)</td>\n",
       "      <td>Drama|War</td>\n",
       "    </tr>\n",
       "    <tr>\n",
       "      <th>2</th>\n",
       "      <td>1644</td>\n",
       "      <td>1201</td>\n",
       "      <td>4.922097</td>\n",
       "      <td>Good, the Bad and the Ugly, The (Buono, il bru...</td>\n",
       "      <td>Action|Adventure|Western</td>\n",
       "    </tr>\n",
       "    <tr>\n",
       "      <th>3</th>\n",
       "      <td>1644</td>\n",
       "      <td>1209</td>\n",
       "      <td>4.840711</td>\n",
       "      <td>Once Upon a Time in the West (C'era una volta ...</td>\n",
       "      <td>Action|Drama|Western</td>\n",
       "    </tr>\n",
       "    <tr>\n",
       "      <th>4</th>\n",
       "      <td>1644</td>\n",
       "      <td>1258</td>\n",
       "      <td>4.776145</td>\n",
       "      <td>Shining, The (1980)</td>\n",
       "      <td>Horror</td>\n",
       "    </tr>\n",
       "    <tr>\n",
       "      <th>5</th>\n",
       "      <td>1644</td>\n",
       "      <td>4878</td>\n",
       "      <td>4.774848</td>\n",
       "      <td>Donnie Darko (2001)</td>\n",
       "      <td>Drama|Mystery|Sci-Fi|Thriller</td>\n",
       "    </tr>\n",
       "    <tr>\n",
       "      <th>6</th>\n",
       "      <td>1644</td>\n",
       "      <td>48394</td>\n",
       "      <td>4.768364</td>\n",
       "      <td>Pan's Labyrinth (Laberinto del fauno, El) (2006)</td>\n",
       "      <td>Drama|Fantasy|Thriller</td>\n",
       "    </tr>\n",
       "    <tr>\n",
       "      <th>7</th>\n",
       "      <td>1644</td>\n",
       "      <td>1704</td>\n",
       "      <td>4.765206</td>\n",
       "      <td>Good Will Hunting (1997)</td>\n",
       "      <td>Drama|Romance</td>\n",
       "    </tr>\n",
       "    <tr>\n",
       "      <th>8</th>\n",
       "      <td>1644</td>\n",
       "      <td>31410</td>\n",
       "      <td>4.755410</td>\n",
       "      <td>Downfall (Untergang, Der) (2004)</td>\n",
       "      <td>Drama|War</td>\n",
       "    </tr>\n",
       "    <tr>\n",
       "      <th>9</th>\n",
       "      <td>1644</td>\n",
       "      <td>46723</td>\n",
       "      <td>4.749789</td>\n",
       "      <td>Babel (2006)</td>\n",
       "      <td>Drama|Thriller</td>\n",
       "    </tr>\n",
       "  </tbody>\n",
       "</table>\n",
       "</div>"
      ],
      "text/plain": [
       "   userId  movieId    rating  \\\n",
       "0    1644     1172  4.975449   \n",
       "1    1644     5995  4.939308   \n",
       "2    1644     1201  4.922097   \n",
       "3    1644     1209  4.840711   \n",
       "4    1644     1258  4.776145   \n",
       "5    1644     4878  4.774848   \n",
       "6    1644    48394  4.768364   \n",
       "7    1644     1704  4.765206   \n",
       "8    1644    31410  4.755410   \n",
       "9    1644    46723  4.749789   \n",
       "\n",
       "                                               title  \\\n",
       "0     Cinema Paradiso (Nuovo cinema Paradiso) (1989)   \n",
       "1                                Pianist, The (2002)   \n",
       "2  Good, the Bad and the Ugly, The (Buono, il bru...   \n",
       "3  Once Upon a Time in the West (C'era una volta ...   \n",
       "4                                Shining, The (1980)   \n",
       "5                                Donnie Darko (2001)   \n",
       "6   Pan's Labyrinth (Laberinto del fauno, El) (2006)   \n",
       "7                           Good Will Hunting (1997)   \n",
       "8                   Downfall (Untergang, Der) (2004)   \n",
       "9                                       Babel (2006)   \n",
       "\n",
       "                          genres  \n",
       "0                          Drama  \n",
       "1                      Drama|War  \n",
       "2       Action|Adventure|Western  \n",
       "3           Action|Drama|Western  \n",
       "4                         Horror  \n",
       "5  Drama|Mystery|Sci-Fi|Thriller  \n",
       "6         Drama|Fantasy|Thriller  \n",
       "7                  Drama|Romance  \n",
       "8                      Drama|War  \n",
       "9                 Drama|Thriller  "
      ]
     },
     "execution_count": 56,
     "metadata": {},
     "output_type": "execute_result"
    }
   ],
   "source": [
    "new_df=pd.DataFrame([1644]*10,columns=['userId'])\n",
    "new_df['movieId']=recommend_movies_2_test['recommended_movies'][1]\n",
    "new_df['rating']=recommend_movies_2_test['predicted_ratings'][1]\n",
    "\n",
    "new_df=new_df.merge(genre_data,on = 'movieId',how = 'inner')\n",
    "new_df"
   ]
  },
  {
   "cell_type": "code",
   "execution_count": 63,
   "metadata": {},
   "outputs": [],
   "source": [
    "new_df.to_csv(\"../data/ALS_recommended_eg.csv\")"
   ]
  }
 ],
 "metadata": {
  "kernelspec": {
   "display_name": "Python 3",
   "language": "python",
   "name": "python3"
  },
  "language_info": {
   "codemirror_mode": {
    "name": "ipython",
    "version": 3
   },
   "file_extension": ".py",
   "mimetype": "text/x-python",
   "name": "python",
   "nbconvert_exporter": "python",
   "pygments_lexer": "ipython3",
   "version": "3.7.3"
  }
 },
 "nbformat": 4,
 "nbformat_minor": 2
}
